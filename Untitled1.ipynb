{
  "nbformat": 4,
  "nbformat_minor": 0,
  "metadata": {
    "colab": {
      "provenance": [],
      "authorship_tag": "ABX9TyNMSlat+VMPGE4/5AusEU40",
      "include_colab_link": true
    },
    "kernelspec": {
      "name": "python3",
      "display_name": "Python 3"
    },
    "language_info": {
      "name": "python"
    }
  },
  "cells": [
    {
      "cell_type": "markdown",
      "metadata": {
        "id": "view-in-github",
        "colab_type": "text"
      },
      "source": [
        "<a href=\"https://colab.research.google.com/github/gnbhub/GnB20222_Python_Basic/blob/master/Untitled1.ipynb\" target=\"_parent\"><img src=\"https://colab.research.google.com/assets/colab-badge.svg\" alt=\"Open In Colab\"/></a>"
      ]
    },
    {
      "cell_type": "code",
      "source": [
        "price = float(input(\"상품 가격을 입력 (만원) : \"))\n",
        "if price >= 10:\n",
        "  discount = price * 0.2\n",
        "else:\n",
        "  discount = price * 0.1\n",
        "final_price= price-discount\n",
        "print(\"최종 가격 : %.2f 만원 \" %final_price)"
      ],
      "metadata": {
        "colab": {
          "base_uri": "https://localhost:8080/"
        },
        "id": "SLgIWUxjuQoy",
        "outputId": "2dc44eab-12e4-42fe-a784-54665a8f4e33"
      },
      "execution_count": 6,
      "outputs": [
        {
          "output_type": "stream",
          "name": "stdout",
          "text": [
            "상품 가격을 입력 (만원) : 15\n",
            "최종 가격 : 12.00 만원 \n"
          ]
        }
      ]
    },
    {
      "cell_type": "code",
      "source": [
        "hours = float(input(\"근무 시간 입력 : \"))\n",
        "pay = 8000\n",
        "if hours > 7:\n",
        "  salary = pay * hours\n",
        "  salary = salary + (pay * (hours- 7)) * 0.5\n",
        "else:\n",
        "  salary = pay * hours\n",
        "print(\"임금 : %.2f 원 \" %salary)"
      ],
      "metadata": {
        "colab": {
          "base_uri": "https://localhost:8080/"
        },
        "id": "RcVsAKurunEZ",
        "outputId": "6d303ef1-f496-4dc6-af2c-04a37724cfe0"
      },
      "execution_count": 7,
      "outputs": [
        {
          "output_type": "stream",
          "name": "stdout",
          "text": [
            "근무 시간 입력 : 9\n",
            "임금 : 80000.00 원 \n"
          ]
        }
      ]
    },
    {
      "cell_type": "code",
      "execution_count": 1,
      "metadata": {
        "colab": {
          "base_uri": "https://localhost:8080/"
        },
        "id": "zSNAvujUqrVe",
        "outputId": "c358ca47-006b-47ec-f63e-c6a67d2ff09b"
      },
      "outputs": [
        {
          "output_type": "stream",
          "name": "stdout",
          "text": [
            "성별을 입력 (남:m,여:f) : f\n",
            "나이 입력 : 11\n",
            "입단이 가능합니다\n"
          ]
        }
      ],
      "source": [
        "gender = input(\"성별을 입력 (남:m,여:f) : \")\n",
        "if gender.lower()=='f':\n",
        "  age = int(input(\"나이 입력 : \"))\n",
        "  if 10 <= age <= 12:\n",
        "    print(\"입단이 가능합니다\")\n",
        "  else:\n",
        "    print(\"나이가 조건에 안맞습니다\")\n",
        "else:\n",
        "  print(\"여자만 모집합니다\")"
      ]
    },
    {
      "cell_type": "code",
      "source": [
        "score = int(input(\"점수를 입력 : \"))\n",
        "if 90 <= score <= 100:\n",
        "  print(\"A\")\n",
        "elif 80 <= score < 90:\n",
        "  print(\"B\")\n",
        "elif 70 <= score < 80:\n",
        "  print(\"C\")\n",
        "else:\n",
        "  print(\"F\")\n"
      ],
      "metadata": {
        "colab": {
          "base_uri": "https://localhost:8080/"
        },
        "id": "Yj8YEtx3tIP2",
        "outputId": "7de254f6-81d3-4dc8-c4ea-59ba59d84084"
      },
      "execution_count": 2,
      "outputs": [
        {
          "output_type": "stream",
          "name": "stdout",
          "text": [
            "점수를 입력 : 70\n",
            "C\n"
          ]
        }
      ]
    },
    {
      "cell_type": "code",
      "source": [
        "month = int(input(\"달을 입력 : \"))\n",
        "if month == 2:\n",
        "  print(\"28일\")\n",
        "elif month == 4 or month == 6 or month ==10:\n",
        "  print(\"30일\")\n",
        "else:\n",
        "  print(\"31일\")"
      ],
      "metadata": {
        "colab": {
          "base_uri": "https://localhost:8080/"
        },
        "id": "Deo6Irv8tfax",
        "outputId": "eaf9b12a-2aa3-45f4-ef75-94d3838531fe"
      },
      "execution_count": 3,
      "outputs": [
        {
          "output_type": "stream",
          "name": "stdout",
          "text": [
            "달을 입력 : 4\n",
            "30일\n"
          ]
        }
      ]
    }
  ]
}