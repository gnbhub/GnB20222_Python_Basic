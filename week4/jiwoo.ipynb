{
  "nbformat": 4,
  "nbformat_minor": 0,
  "metadata": {
    "colab": {
      "provenance": [],
      "authorship_tag": "ABX9TyPpxX3l3Xva4lXR28oR9JZV",
      "include_colab_link": true
    },
    "kernelspec": {
      "name": "python3",
      "display_name": "Python 3"
    },
    "language_info": {
      "name": "python"
    }
  },
  "cells": [
    {
      "cell_type": "markdown",
      "metadata": {
        "id": "view-in-github",
        "colab_type": "text"
      },
      "source": [
        "<a href=\"https://colab.research.google.com/github/gnbhub/GnB20222_Python_Basic/blob/master/week4/jiwoo.ipynb\" target=\"_parent\"><img src=\"https://colab.research.google.com/assets/colab-badge.svg\" alt=\"Open In Colab\"/></a>"
      ]
    },
    {
      "cell_type": "code",
      "execution_count": 1,
      "metadata": {
        "colab": {
          "base_uri": "https://localhost:8080/"
        },
        "id": "JPSo9HbNQpOm",
        "outputId": "59664cfa-25b5-43a1-a1a9-6deb164ecd19"
      },
      "outputs": [
        {
          "output_type": "stream",
          "name": "stdout",
          "text": [
            "Hello Bython\n"
          ]
        }
      ],
      "source": [
        "message = \"Hello Python\"\n",
        "message = list(message)\n",
        "message[6] = \"B\"\n",
        "message = \"\".join(message)\n",
        "print(message)"
      ]
    },
    {
      "cell_type": "code",
      "source": [
        "nation = []\n",
        "nation.append(\"korea\")\n",
        "nation.append(\"japan\")\n",
        "nation.append([10, 20])\n",
        "print(nation)\n",
        "\n",
        "nation = [\"korea\", \"japan\"]\n",
        "nation.insert(1,\"china\")\n",
        "nation.insert(1,\"england\")\n",
        "print(nation)"
      ],
      "metadata": {
        "colab": {
          "base_uri": "https://localhost:8080/"
        },
        "id": "3eMYEhNvREdk",
        "outputId": "337f0c99-722a-43fa-c29d-f65df3d3fe51"
      },
      "execution_count": 3,
      "outputs": [
        {
          "output_type": "stream",
          "name": "stdout",
          "text": [
            "['korea', 'japan', [10, 20]]\n",
            "['korea', 'england', 'china', 'japan']\n"
          ]
        }
      ]
    },
    {
      "cell_type": "code",
      "source": [
        "numbers = [10, 20, 30, 40, 50]\n",
        "del numbers[1]\n",
        "print(numbers)\n",
        "del numbers[1:3]\n",
        "print(numbers)\n",
        "del numbers"
      ],
      "metadata": {
        "colab": {
          "base_uri": "https://localhost:8080/"
        },
        "id": "rcxC0T1WRdfK",
        "outputId": "7fd4c645-a47b-468b-a8a1-faccde019e49"
      },
      "execution_count": 5,
      "outputs": [
        {
          "output_type": "stream",
          "name": "stdout",
          "text": [
            "[10, 30, 40, 50]\n",
            "[10, 50]\n"
          ]
        }
      ]
    },
    {
      "cell_type": "code",
      "source": [
        "numbers = [10, 20, 30, 40, 50, 20]\n",
        "numbers.remove(30)\n",
        "print(numbers)\n",
        "numbers.remove(20)\n",
        "print(numbers)\n",
        "numbers.remove(60)"
      ],
      "metadata": {
        "colab": {
          "base_uri": "https://localhost:8080/",
          "height": 248
        },
        "id": "C3qqjXYRRlOm",
        "outputId": "9d592f1c-992e-4556-a548-be281f0bee63"
      },
      "execution_count": 6,
      "outputs": [
        {
          "output_type": "stream",
          "name": "stdout",
          "text": [
            "[10, 20, 40, 50, 20]\n",
            "[10, 40, 50, 20]\n"
          ]
        },
        {
          "output_type": "error",
          "ename": "ValueError",
          "evalue": "ignored",
          "traceback": [
            "\u001b[0;31m---------------------------------------------------------------------------\u001b[0m",
            "\u001b[0;31mValueError\u001b[0m                                Traceback (most recent call last)",
            "\u001b[0;32m<ipython-input-6-8aacb23bfd91>\u001b[0m in \u001b[0;36m<module>\u001b[0;34m\u001b[0m\n\u001b[1;32m      4\u001b[0m \u001b[0mnumbers\u001b[0m\u001b[0;34m.\u001b[0m\u001b[0mremove\u001b[0m\u001b[0;34m(\u001b[0m\u001b[0;36m20\u001b[0m\u001b[0;34m)\u001b[0m\u001b[0;34m\u001b[0m\u001b[0;34m\u001b[0m\u001b[0m\n\u001b[1;32m      5\u001b[0m \u001b[0mprint\u001b[0m\u001b[0;34m(\u001b[0m\u001b[0mnumbers\u001b[0m\u001b[0;34m)\u001b[0m\u001b[0;34m\u001b[0m\u001b[0;34m\u001b[0m\u001b[0m\n\u001b[0;32m----> 6\u001b[0;31m \u001b[0mnumbers\u001b[0m\u001b[0;34m.\u001b[0m\u001b[0mremove\u001b[0m\u001b[0;34m(\u001b[0m\u001b[0;36m60\u001b[0m\u001b[0;34m)\u001b[0m\u001b[0;34m\u001b[0m\u001b[0;34m\u001b[0m\u001b[0m\n\u001b[0m",
            "\u001b[0;31mValueError\u001b[0m: list.remove(x): x not in list"
          ]
        }
      ]
    },
    {
      "cell_type": "code",
      "source": [
        "numbers = [10, 20, 30, 40, 50]\n",
        "del_item = numbers.pop()\n",
        "print(del_item, numbers)\n",
        "del_item = numbers.pop()\n",
        "print(del_item, numbers)\n",
        "del_item = numbers.pop(1)\n",
        "print(del_item, numbers)"
      ],
      "metadata": {
        "colab": {
          "base_uri": "https://localhost:8080/"
        },
        "id": "JdMw7pSBSIJi",
        "outputId": "22a66036-202a-4398-b6e6-660c3d8f4fa3"
      },
      "execution_count": 7,
      "outputs": [
        {
          "output_type": "stream",
          "name": "stdout",
          "text": [
            "50 [10, 20, 30, 40]\n",
            "40 [10, 20, 30]\n",
            "20 [10, 30]\n"
          ]
        }
      ]
    },
    {
      "cell_type": "code",
      "source": [
        "numbers = [1, 5, 7, 3, 6, 2, 8]\n",
        "print(sorted(numbers))\n",
        "print(sorted(numbers, reverse=True))\n",
        "message = \"python\"\n",
        "print(sorted(message))\n",
        "\n",
        "oldlist = [4, 2, 1, 3]\n",
        "newlist = oldlist\n",
        "newlist.sort()\n",
        "print(oldlist, newlist)\n",
        "\n",
        "oldlist = [4, 2, 1, 3]\n",
        "newlist = oldlist[:]\n",
        "newlist.sort()\n",
        "print(oldlist, newlist)\n",
        "\n",
        "numbers = [1, 5, 7, 3, 6, 2, 8]\n",
        "numbers.reverse()\n",
        "print(numbers)"
      ],
      "metadata": {
        "colab": {
          "base_uri": "https://localhost:8080/"
        },
        "id": "5_QgiG3SWVfd",
        "outputId": "bc76897a-f41e-4a1c-f299-501c4d357e7e"
      },
      "execution_count": 12,
      "outputs": [
        {
          "output_type": "stream",
          "name": "stdout",
          "text": [
            "[1, 2, 3, 5, 6, 7, 8]\n",
            "[8, 7, 6, 5, 3, 2, 1]\n",
            "['h', 'n', 'o', 'p', 't', 'y']\n",
            "[1, 2, 3, 4] [1, 2, 3, 4]\n",
            "[4, 2, 1, 3] [1, 2, 3, 4]\n",
            "[8, 2, 6, 3, 7, 5, 1]\n"
          ]
        }
      ]
    },
    {
      "cell_type": "code",
      "source": [
        "numbers = [4, 7, 6, 3, 1, 8, 5]\n",
        "\n",
        "for i in range(len(numbers)-1, 0, -1):\n",
        "    for j in range(i):\n",
        "        if numbers[j] > numbers[j+1]:\n",
        "            temp = numbers[j]\n",
        "            numbers[j] = numbers[j+1]\n",
        "            numbers[j+1] = temp\n",
        "    print(\"pass\", len(numbers)-i, \":\", numbers)"
      ],
      "metadata": {
        "colab": {
          "base_uri": "https://localhost:8080/"
        },
        "id": "y8S5fOFeWv7L",
        "outputId": "6472171f-05aa-437f-f2cc-4e3ae3d51511"
      },
      "execution_count": 13,
      "outputs": [
        {
          "output_type": "stream",
          "name": "stdout",
          "text": [
            "pass 1 : [4, 6, 3, 1, 7, 5, 8]\n",
            "pass 2 : [4, 3, 1, 6, 5, 7, 8]\n",
            "pass 3 : [3, 1, 4, 5, 6, 7, 8]\n",
            "pass 4 : [1, 3, 4, 5, 6, 7, 8]\n",
            "pass 5 : [1, 3, 4, 5, 6, 7, 8]\n",
            "pass 6 : [1, 3, 4, 5, 6, 7, 8]\n"
          ]
        }
      ]
    }
  ]
}