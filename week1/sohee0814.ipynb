{
  "nbformat": 4,
  "nbformat_minor": 0,
  "metadata": {
    "colab": {
      "provenance": [],
      "authorship_tag": "ABX9TyP5OPizMcGzvD+swI3uu+Nd",
      "include_colab_link": true
    },
    "kernelspec": {
      "name": "python3",
      "display_name": "Python 3"
    },
    "language_info": {
      "name": "python"
    }
  },
  "cells": [
    {
      "cell_type": "markdown",
      "metadata": {
        "id": "view-in-github",
        "colab_type": "text"
      },
      "source": [
        "<a href=\"https://colab.research.google.com/github/gnbhub/GnB20222_Python_Basic/blob/master/week1/sohee0814.ipynb\" target=\"_parent\"><img src=\"https://colab.research.google.com/assets/colab-badge.svg\" alt=\"Open In Colab\"/></a>"
      ]
    },
    {
      "cell_type": "code",
      "source": [
        "origin_money = int(input('돈 : '))\n",
        "money = origin_money\n",
        "c1000 = money//1000\n",
        "money %= 1000\n",
        "\n",
        "c500 = money//500\n",
        "money %= 500\n",
        "\n",
        "c100 = money//100\n",
        "money %= 100\n",
        "\n",
        "c50 = money//50\n",
        "money %= 50\n",
        "\n",
        "c10 = money//10\n",
        "money %= 10\n",
        "\n",
        "c1 = money//1\n",
        "money %= 1\n",
        "\n",
        "print(origin_money, 'won = ', c1000,'*1000won +',c500,'*500won +', c100,'*100won +', c50,'*50won +', c10,'*10won +', c1,'*1won,', 'total',c1000+c500+c100+c50+c10+c1,'is the minimum.')"
      ],
      "metadata": {
        "id": "Ot7JQGSpqcb_",
        "colab": {
          "base_uri": "https://localhost:8080/"
        },
        "outputId": "f5e40799-82bb-4db2-a78b-c49a79538305"
      },
      "execution_count": 10,
      "outputs": [
        {
          "output_type": "stream",
          "name": "stdout",
          "text": [
            "돈 : 2050\n",
            "2050 won =  2 *1000won + 0 *500won + 0 *100won + 1 *50won + 0 *10won + 0 *1won, total 3 is the minimum.\n"
          ]
        }
      ]
    },
    {
      "cell_type": "code",
      "source": [
        "height = float(input(\"높이 : \"))\n",
        "radius = float(input(\"반지름 : \")\n",
        "pi=3.141592\n",
        "area = pi * (radius ** 2)\n",
        "circum = 2 * pi * radius\n",
        "print(\"원 면적:\", round(area,2))\n",
        "print(\"원 둘레:\", round(circum,2))"
      ],
      "metadata": {
        "colab": {
          "base_uri": "https://localhost:8080/",
          "height": 137
        },
        "id": "QOWBsjeH7tf8",
        "outputId": "a97a48bf-4079-4979-f1c0-6026ffdf8b46"
      },
      "execution_count": 8,
      "outputs": [
        {
          "output_type": "error",
          "ename": "SyntaxError",
          "evalue": "ignored",
          "traceback": [
            "\u001b[0;36m  File \u001b[0;32m\"<ipython-input-8-aabef6e58db1>\"\u001b[0;36m, line \u001b[0;32m3\u001b[0m\n\u001b[0;31m    pi=3.141592\u001b[0m\n\u001b[0m     ^\u001b[0m\n\u001b[0;31mSyntaxError\u001b[0m\u001b[0;31m:\u001b[0m invalid syntax\n"
          ]
        }
      ]
    },
    {
      "cell_type": "code",
      "source": [
        "expression = input(\"일반 수식을 그대로 입력 : \")\n",
        "answer = eval(expression)\n",
        "print(\"결과 : %.2f\" %answer)"
      ],
      "metadata": {
        "colab": {
          "base_uri": "https://localhost:8080/"
        },
        "id": "ziM3K4H59IFw",
        "outputId": "4ea24f16-4b42-4ecc-a6bb-b23a6eafebd1"
      },
      "execution_count": 9,
      "outputs": [
        {
          "output_type": "stream",
          "name": "stdout",
          "text": [
            "일반 수식을 그대로 입력 : (2+3)*(13/3)\n",
            "결과 : 21.67\n"
          ]
        }
      ]
    }
  ]
}