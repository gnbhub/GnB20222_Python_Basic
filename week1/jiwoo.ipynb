{
  "nbformat": 4,
  "nbformat_minor": 0,
  "metadata": {
    "colab": {
      "provenance": [],
      "authorship_tag": "ABX9TyN2Fh3Qlz74dvlrQfAW5ADf",
      "include_colab_link": true
    },
    "kernelspec": {
      "name": "python3",
      "display_name": "Python 3"
    },
    "language_info": {
      "name": "python"
    }
  },
  "cells": [
    {
      "cell_type": "markdown",
      "metadata": {
        "id": "view-in-github",
        "colab_type": "text"
      },
      "source": [
        "<a href=\"https://colab.research.google.com/github/gnbhub/GnB20222_Python_Basic/blob/master/week1/jiwoo.ipynb\" target=\"_parent\"><img src=\"https://colab.research.google.com/assets/colab-badge.svg\" alt=\"Open In Colab\"/></a>"
      ]
    },
    {
      "cell_type": "code",
      "execution_count": 29,
      "metadata": {
        "colab": {
          "base_uri": "https://localhost:8080/"
        },
        "id": "1zk_6I-s24Xt",
        "outputId": "fd518b2d-bc8a-4568-c96a-a49e4828347b"
      },
      "outputs": [
        {
          "output_type": "stream",
          "name": "stdout",
          "text": [
            "돈 입력 : 4200\n",
            "4200 won = 4*1,000 won + 0*500 won + 2*100 won + 0*50 won + 0*10 won + 0*1 won.\n",
            "total 6 is the minimum.\n"
          ]
        }
      ],
      "source": [
        "money = int(input(\"돈 입력 : \"))\n",
        "\n",
        "if money >= 0 and money<10000:\n",
        "  thou = money//1000\n",
        "  five_hun = (money - thou*1000)//500\n",
        "  one_hun = (money - thou*1000 - five_hun*500)//100\n",
        "  fifty = (money - thou*1000 - five_hun*500 - one_hun*100)//50\n",
        "  ten = (money - thou*1000 - five_hun*500 - one_hun*100 - fifty*50)//10\n",
        "  one = (money - thou*1000 - five_hun*500 - one_hun*100 - fifty*50 - ten*10)//1\n",
        "  min = thou + five_hun + one_hun + fifty + ten + one \n",
        "\n",
        "  print(\"%d won = %d*1,000 won + %d*500 won + %d*100 won + %d*50 won + %d*10 won + %d*1 won.\" %(money, thou, five_hun, one_hun, fifty, ten, one))\n",
        "  print(\"total %d is the minimum.\" %min)\n",
        "\n",
        "else:\n",
        "  print(\"다시 입력하시오.\")"
      ]
    },
    {
      "cell_type": "code",
      "source": [
        "height = float(input(\"높이 : \"))\n",
        "radius = float(input(\"반지름 : \"))\n",
        "pi = 3.141592\n",
        "\n",
        "area = pi*(radius**2)\n",
        "circum = 2*pi*radius\n",
        "\n",
        "print(\"원 면적 :\", round(area,2))\n",
        "print(\"원 둘레 :\", round(circum,2))"
      ],
      "metadata": {
        "colab": {
          "base_uri": "https://localhost:8080/"
        },
        "id": "1JFtu_9v2-lR",
        "outputId": "f13082aa-9278-4dc3-d2eb-251d7a4238ab"
      },
      "execution_count": 11,
      "outputs": [
        {
          "output_type": "stream",
          "name": "stdout",
          "text": [
            "높이 : 5.6\n",
            "반지름 : 2.2\n",
            "원 면적 : 15.21\n",
            "원 둘레 : 13.82\n"
          ]
        }
      ]
    },
    {
      "cell_type": "code",
      "source": [
        "number = eval(input(\"수를 입력 : \"))\n",
        "number = eval(input(\"수를 입력 : \"))\n",
        "\n",
        "expression = input(\"일반 수식을 그대로 입력 : \")\n",
        "answer = eval(expression)\n",
        "print(\"결과 : %.2f\" %answer)"
      ],
      "metadata": {
        "colab": {
          "base_uri": "https://localhost:8080/"
        },
        "id": "j7kaLE5l2-1G",
        "outputId": "754ade2b-8559-4252-8d76-afcaf348820f"
      },
      "execution_count": 19,
      "outputs": [
        {
          "output_type": "stream",
          "name": "stdout",
          "text": [
            "수를 입력 : 100\n",
            "수를 입력 : 3.14\n",
            "일반 수식을 그대로 입력 : 2*6-3\n",
            "결과 : 9.00\n"
          ]
        }
      ]
    }
  ]
}