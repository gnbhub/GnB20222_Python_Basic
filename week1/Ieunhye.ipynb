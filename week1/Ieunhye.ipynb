{
  "nbformat": 4,
  "nbformat_minor": 0,
  "metadata": {
    "colab": {
      "provenance": [],
      "collapsed_sections": [],
      "authorship_tag": "ABX9TyPXg+Y0jCU4Ki0LnPaPa9VP",
      "include_colab_link": true
    },
    "kernelspec": {
      "name": "python3",
      "display_name": "Python 3"
    },
    "language_info": {
      "name": "python"
    }
  },
  "cells": [
    {
      "cell_type": "markdown",
      "metadata": {
        "id": "view-in-github",
        "colab_type": "text"
      },
      "source": [
        "<a href=\"https://colab.research.google.com/github/gnbhub/GnB20222_Python_Basic/blob/master/week1/Ieunhye.ipynb\" target=\"_parent\"><img src=\"https://colab.research.google.com/assets/colab-badge.svg\" alt=\"Open In Colab\"/></a>"
      ]
    },
    {
      "cell_type": "code",
      "source": [
        "input_money = int(input('보유중인 돈을 입력하세요 (0~9,999)'))\n",
        "start_money = input_money\n",
        "money_1000 = input_money//1000\n",
        "input_money = input_money%1000\n",
        "money_500 = input_money//500\n",
        "input_money = input_money%500\n",
        "money_100 = input_money//100\n",
        "input_money = input_money%100\n",
        "money_50 = input_money//50\n",
        "input_money = input_money%50\n",
        "money_10 = input_money//10\n",
        "money_1 = input_money%10\n",
        "\n",
        "print( start_money,'won = ',money_1000,'* 1000 won +', money_500,'* 500 won +', money_100,'* 100 won +', money_50,'* 50 won +', money_10,'* 10 won +', money_1,'* 1 won , total',money_1000+money_500+money_100+money_50+money_10+money_1,'is the minimum')"
      ],
      "metadata": {
        "id": "O_JPP5TacDCn",
        "colab": {
          "base_uri": "https://localhost:8080/"
        },
        "outputId": "89ae490f-8ccc-44c2-d8c5-74b59658f8c0"
      },
      "execution_count": 11,
      "outputs": [
        {
          "output_type": "stream",
          "name": "stdout",
          "text": [
            "보유중인 돈을 입력하세요 (0~9,999)8888\n",
            "8888 won =  8 * 1000 won + 1 * 500 won + 3 * 100 won + 1 * 50 won + 3 * 10 won + 8 * 1 won , total 24 is the minimum\n"
          ]
        }
      ]
    },
    {
      "cell_type": "code",
      "execution_count": null,
      "metadata": {
        "colab": {
          "base_uri": "https://localhost:8080/"
        },
        "id": "wX0wPzGnWtVg",
        "outputId": "3eedec01-f095-4fef-972c-1e08afb4c8f7"
      },
      "outputs": [
        {
          "output_type": "stream",
          "name": "stdout",
          "text": [
            "높이 : 5\n",
            "반지름 : 6\n",
            "원 면적 :  113.1\n",
            "원 둘레 :  37.7\n"
          ]
        }
      ],
      "source": [
        "# 높이와 반지름을 실수로 입력받아 원 넓이와 둘레 구하기\n",
        "height=float(input(\"높이 : \"))\n",
        "radius=float(input(\"반지름 : \"))\n",
        "pi=3.141592\n",
        "\n",
        "area=pi*(radius**2)\n",
        "circum=2*pi*radius\n",
        "\n",
        "print(\"원 면적 : \", round(area, 2))\n",
        "print(\"원 둘레 : \", round(circum,2))"
      ]
    },
    {
      "cell_type": "code",
      "source": [
        "# 수식을 문자열로 입력받아 그대로 연산하기\n",
        "expression=input(\"일반 수식을 그대로 입력 : \")\n",
        "answer=eval(expression)\n",
        "print(\"결과 : %2.f\"%answer)"
      ],
      "metadata": {
        "colab": {
          "base_uri": "https://localhost:8080/"
        },
        "id": "21beN6lDno4Y",
        "outputId": "627cb2cf-2c7f-41a2-c399-9fa6bdbd3446"
      },
      "execution_count": 12,
      "outputs": [
        {
          "output_type": "stream",
          "name": "stdout",
          "text": [
            "일반 수식을 그대로 입력 : (5+7)**2\n",
            "결과 : 144\n"
          ]
        }
      ]
    }
  ]
}