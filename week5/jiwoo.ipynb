{
  "nbformat": 4,
  "nbformat_minor": 0,
  "metadata": {
    "colab": {
      "provenance": [],
      "authorship_tag": "ABX9TyP42btk9XubcGFKNimuo14D",
      "include_colab_link": true
    },
    "kernelspec": {
      "name": "python3",
      "display_name": "Python 3"
    },
    "language_info": {
      "name": "python"
    }
  },
  "cells": [
    {
      "cell_type": "markdown",
      "metadata": {
        "id": "view-in-github",
        "colab_type": "text"
      },
      "source": [
        "<a href=\"https://colab.research.google.com/github/gnbhub/GnB20222_Python_Basic/blob/master/week5/jiwoo.ipynb\" target=\"_parent\"><img src=\"https://colab.research.google.com/assets/colab-badge.svg\" alt=\"Open In Colab\"/></a>"
      ]
    },
    {
      "cell_type": "code",
      "execution_count": 1,
      "metadata": {
        "colab": {
          "base_uri": "https://localhost:8080/"
        },
        "id": "Sd5KjLo3_373",
        "outputId": "52ab847e-3960-417e-9bbb-56ebacd1d433"
      },
      "outputs": [
        {
          "output_type": "stream",
          "name": "stdout",
          "text": [
            "과일 이름 : 딸기\n",
            "가격 입력 : 5000\n",
            "과일 이름 : 귤\n",
            "가격 입력 : 1000\n",
            "과일 이름 : 감\n",
            "가격 입력 : 3000\n",
            "{'딸기': 5000, '귤': 1000, '감': 3000}\n"
          ]
        }
      ],
      "source": [
        "fruit = {}\n",
        "\n",
        "for count in range(3):\n",
        "    name = input(\"과일 이름 : \")\n",
        "    price = int(input(\"가격 입력 : \"))\n",
        "    fruit[name] = price\n",
        "\n",
        "print(fruit)\n"
      ]
    },
    {
      "cell_type": "code",
      "source": [
        "result = {\"char\":0, \"digit\":0, \"other\":0}\n",
        "message = input(\"문자열을 입력 : \")\n",
        "\n",
        "for letter in message:\n",
        "    if letter.isalpha():\n",
        "        result[\"char\"] += 1\n",
        "    elif letter.isdigit():\n",
        "        result[\"digit\"] += 1\n",
        "    else:\n",
        "        result[\"other\"] += 1\n",
        "\n",
        "print(\"문자 : %(char)d개\" %result)\n",
        "print(\"숫자 : %(digit)d개\" %result)\n",
        "print(\"기타 : %(other)d개\" %result)\n"
      ],
      "metadata": {
        "colab": {
          "base_uri": "https://localhost:8080/"
        },
        "id": "qn3qAZpMAHyE",
        "outputId": "355e31f3-0b40-4d31-8aa7-f150779c6249"
      },
      "execution_count": 2,
      "outputs": [
        {
          "output_type": "stream",
          "name": "stdout",
          "text": [
            "문자열을 입력 : python123*&hi\n",
            "문자 : 8개\n",
            "숫자 : 3개\n",
            "기타 : 2개\n"
          ]
        }
      ]
    },
    {
      "cell_type": "code",
      "source": [
        "fruit = {\"apple\":1500, \"banana\":1300, \"melon\":2000}\n",
        "count = 0\n",
        "\n",
        "for key, item in fruit.items():\n",
        "    count += 1\n",
        "    print(\"%d.%s(%d원)\" %(count, key, item))\n",
        "\n",
        "total = 0\n",
        "\n",
        "for key in fruit.keys():\n",
        "    print(\"%s의 개수 : \" %key, end=\"\")\n",
        "    number = int(input())\n",
        "    total = total + (fruit[key] * number)\n",
        "\n",
        "print(\"총금액 : %d원\" %total)\n"
      ],
      "metadata": {
        "colab": {
          "base_uri": "https://localhost:8080/"
        },
        "id": "CQtoDQnSAZb4",
        "outputId": "9acaed97-39d0-424f-833c-bc6277693bee"
      },
      "execution_count": 3,
      "outputs": [
        {
          "output_type": "stream",
          "name": "stdout",
          "text": [
            "1.apple(1500원)\n",
            "2.banana(1300원)\n",
            "3.melon(2000원)\n",
            "apple의 개수 : 2\n",
            "banana의 개수 : 4\n",
            "melon의 개수 : 3\n",
            "총금액 : 14200원\n"
          ]
        }
      ]
    },
    {
      "cell_type": "code",
      "source": [
        "set1={1,2,3,4}\n",
        "set2={3,4,5,6}\n",
        "print(set1&set2)\n",
        "print(set1|set2)\n",
        "print(set1-set2)\n",
        "print(set1^set2)"
      ],
      "metadata": {
        "colab": {
          "base_uri": "https://localhost:8080/"
        },
        "id": "_9y3loRWAny_",
        "outputId": "e7c31400-9a22-4c91-cc1c-3103d7c74749"
      },
      "execution_count": 5,
      "outputs": [
        {
          "output_type": "stream",
          "name": "stdout",
          "text": [
            "{3, 4}\n",
            "{1, 2, 3, 4, 5, 6}\n",
            "{1, 2}\n",
            "{1, 2, 5, 6}\n"
          ]
        }
      ]
    },
    {
      "cell_type": "code",
      "source": [
        "numbers = set()\n",
        "numbers.add(1)\n",
        "numbers.add(2)\n",
        "print(numbers)\n",
        "\n",
        "numbers.update([3, 4])\n",
        "numbers.update({\"one\":1})\n",
        "print(numbers)\n",
        "\n",
        "numbers.remove(3)\n",
        "numbers.pop()\n",
        "print(numbers)"
      ],
      "metadata": {
        "colab": {
          "base_uri": "https://localhost:8080/"
        },
        "id": "2caAxCpOBCGr",
        "outputId": "225a5bc7-ac27-430e-c9f5-842f1212960a"
      },
      "execution_count": 17,
      "outputs": [
        {
          "output_type": "stream",
          "name": "stdout",
          "text": [
            "{1, 2}\n",
            "{'one', 1, 2, 3, 4}\n",
            "{1, 2, 4}\n"
          ]
        }
      ]
    }
  ]
}