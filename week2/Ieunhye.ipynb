{
  "nbformat": 4,
  "nbformat_minor": 0,
  "metadata": {
    "colab": {
      "provenance": [],
      "collapsed_sections": [],
      "authorship_tag": "ABX9TyP7p8gAFSYZj7kk5lBhQv8j",
      "include_colab_link": true
    },
    "kernelspec": {
      "name": "python3",
      "display_name": "Python 3"
    },
    "language_info": {
      "name": "python"
    }
  },
  "cells": [
    {
      "cell_type": "markdown",
      "metadata": {
        "id": "view-in-github",
        "colab_type": "text"
      },
      "source": [
        "<a href=\"https://colab.research.google.com/github/gnbhub/GnB20222_Python_Basic/blob/master/week2/Ieunhye.ipynb\" target=\"_parent\"><img src=\"https://colab.research.google.com/assets/colab-badge.svg\" alt=\"Open In Colab\"/></a>"
      ]
    },
    {
      "cell_type": "code",
      "execution_count": null,
      "metadata": {
        "colab": {
          "base_uri": "https://localhost:8080/"
        },
        "id": "Qu6ZofAaOtCr",
        "outputId": "f6672890-fb9c-4f26-b4e5-78f7a22d3efc"
      },
      "outputs": [
        {
          "output_type": "stream",
          "name": "stdout",
          "text": [
            "a*b*c*d\n",
            "python_print\n",
            "value3.141592\n",
            "number:1234,gender:M\n",
            "this is   center  \n",
            "l likecoffee. l drink5 cups of coffee\n"
          ]
        }
      ],
      "source": [
        "print('a','b','c','d',sep=\"*\")\n",
        "print('python',end=\"_\")\n",
        "print('print')\n",
        "d=3.141592\n",
        "print('value%f'%d)\n",
        "s3='number:{num},gender:{gen}'.format(num=1234,gen='M')\n",
        "print(s3)\n",
        "s11='this is {0:^10}'.format('center')\n",
        "print(s11)\n",
        "s='coffee'\n",
        "n=5\n",
        "result1=f'l like{s}. l drink{n} cups of coffee'\n",
        "print(result1)\n"
      ]
    },
    {
      "cell_type": "code",
      "source": [
        "print(\"1.미터를 피트로, 2.5피트를 미터로\")\n",
        "menu=int(input(\"메뉴선택 : \"))\n",
        "\n",
        "if menu==1:\n",
        "  meter=eval(input(\"미터 입력 : \"))\n",
        "  print(\"피트 : %.2f\" %(meter *3.28))\n",
        "elif menu==2:\n",
        "  feet=eval(input(\"피트 입력 : \"))\n",
        "  print(\"미터 : %.2f\" %(feet/3.28))\n",
        "else:\n",
        "  print(\"메뉴입력에러\")\n"
      ],
      "metadata": {
        "colab": {
          "base_uri": "https://localhost:8080/"
        },
        "id": "u1gtvnCLaFlL",
        "outputId": "502a88a3-65e6-4b66-8baa-280a0a19214a"
      },
      "execution_count": null,
      "outputs": [
        {
          "output_type": "stream",
          "name": "stdout",
          "text": [
            "1.미터를 피트로, 2.피트를 미터로\n",
            "메뉴선택 : 1\n",
            "미터 입력 : 6\n",
            "피트 : 19.68\n"
          ]
        }
      ]
    },
    {
      "cell_type": "code",
      "source": [
        "passwd = \"python1234\"\n",
        "tries =1\n",
        "\n",
        "while tries<6:\n",
        "  guess = input(\"비밀번호 : \");\n",
        "  if guess ==passwd:\n",
        "    print(\"비밀번호가 일치합니다\")\n",
        "    break\n",
        "  else: \n",
        "    print(\"비밀번호가 일치하지 않습니다\")\n",
        "    if tries !=5:\n",
        "      print(\"비밀번호 %d회 오류입니다.\" %tries)\n",
        "      print(\"총 %d회 남았습니다\"%(5-tries))\n",
        "      tries+=1\n",
        "else:\n",
        "  print(\"처음부터 다시 시작하세요\")"
      ],
      "metadata": {
        "id": "yRFmgddba5a5",
        "colab": {
          "base_uri": "https://localhost:8080/"
        },
        "outputId": "adae9127-d577-43bc-9f8c-6ac152576804"
      },
      "execution_count": null,
      "outputs": [
        {
          "output_type": "stream",
          "name": "stdout",
          "text": [
            "비밀번호 : 4567\n",
            "비밀번호가 일치하지 않습니다\n",
            "비밀번호 1회 오류입니다.\n",
            "총 4회 남았습니다\n",
            "비밀번호 : python1234\n",
            "비밀번호가 일치합니다\n"
          ]
        }
      ]
    },
    {
      "cell_type": "code",
      "source": [
        "for line in range(1,6):\n",
        "  for star in range(line):\n",
        "    print(\"*\", end=\"\")\n",
        "  print()\n",
        "\n",
        "for line in range(1,5):\n",
        "  for star in range(line,5):\n",
        "    print(\"*\",end=\"\")\n",
        "  print()"
      ],
      "metadata": {
        "colab": {
          "base_uri": "https://localhost:8080/"
        },
        "id": "jIJ1ygOWUa38",
        "outputId": "cf1307c3-ebd1-4f66-c760-6912ac9af752"
      },
      "execution_count": null,
      "outputs": [
        {
          "output_type": "stream",
          "name": "stdout",
          "text": [
            "*\n",
            "**\n",
            "***\n",
            "****\n",
            "*****\n",
            "****\n",
            "***\n",
            "**\n",
            "*\n"
          ]
        }
      ]
    },
    {
      "cell_type": "code",
      "source": [
        "while True:\n",
        "  prime=True\n",
        "  number = int(input(\"수를 입력 (0:종료) : \"))\n",
        "\n",
        "  if number ==0:\n",
        "    break\n",
        "  if number==1:\n",
        "    print(\"값을 다시 입력하세요\")\n",
        "    continue\n",
        "\n",
        "  for count in range(2,number):\n",
        "    if number % count==0:\n",
        "      prime = False\n",
        "      break\n",
        "  if prime:\n",
        "    print(\"소수입니다\")\n",
        "  else:\n",
        "    print(\"소수가 아닙니다\")"
      ],
      "metadata": {
        "colab": {
          "base_uri": "https://localhost:8080/"
        },
        "id": "5ok-2eP6W9nv",
        "outputId": "7095526d-cec3-43e8-aaba-a44b33aa7687"
      },
      "execution_count": null,
      "outputs": [
        {
          "name": "stdout",
          "output_type": "stream",
          "text": [
            "수를 입력 (0:종료) : 34\n",
            "소수가 아닙니다\n",
            "수를 입력 (0:종료) : 56\n",
            "소수가 아닙니다\n",
            "수를 입력 (0:종료) : 0\n"
          ]
        }
      ]
    },
    {
      "cell_type": "code",
      "source": [
        "from re import I\n",
        "number=int(input(\"Enter a positive integer: \"))\n",
        "if number<=0:\n",
        "  print(\"Error! Please enter a positive integer\")\n",
        "\n",
        "if number%2==0:\n",
        "  for i in range(number, 0, -2):\n",
        "    for j in range(0, number-i, 2):\n",
        "      print(' ', end='')\n",
        "    for j in range(i):\n",
        "      print('*',end='')\n",
        "    print()\n"
      ],
      "metadata": {
        "colab": {
          "base_uri": "https://localhost:8080/"
        },
        "id": "iFP0bIrbYCyk",
        "outputId": "6c2208c9-3bc0-4cd6-d5d7-8635c50f096d"
      },
      "execution_count": 23,
      "outputs": [
        {
          "output_type": "stream",
          "name": "stdout",
          "text": [
            "Enter a positive integer: 8\n",
            "********\n",
            " ******\n",
            "  ****\n",
            "   **\n"
          ]
        }
      ]
    }
  ]
}