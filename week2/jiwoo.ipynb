{
  "nbformat": 4,
  "nbformat_minor": 0,
  "metadata": {
    "colab": {
      "provenance": [],
      "collapsed_sections": [],
      "authorship_tag": "ABX9TyPQe06qxWuw4Qng+6DAGC8r",
      "include_colab_link": true
    },
    "kernelspec": {
      "name": "python3",
      "display_name": "Python 3"
    },
    "language_info": {
      "name": "python"
    }
  },
  "cells": [
    {
      "cell_type": "markdown",
      "metadata": {
        "id": "view-in-github",
        "colab_type": "text"
      },
      "source": [
        "<a href=\"https://colab.research.google.com/github/gnbhub/GnB20222_Python_Basic/blob/master/week2/jiwoo.ipynb\" target=\"_parent\"><img src=\"https://colab.research.google.com/assets/colab-badge.svg\" alt=\"Open In Colab\"/></a>"
      ]
    },
    {
      "cell_type": "code",
      "execution_count": null,
      "metadata": {
        "id": "uyGjB4P92MOs"
      },
      "outputs": [],
      "source": []
    },
    {
      "cell_type": "code",
      "source": [
        "print(\"1.미터를 피트로, 2.피트를 미터로\")\n",
        "menu = int(input(\"메뉴 선택 : \"))\n",
        "if menu == 1:\n",
        "  meter = eval(input(\"미터 입력 : \"))\n",
        "  print(\"피트 : %.2f\" %(meter * 3.28))\n",
        "elif menu == 2:\n",
        "  feet = eval(input(\"피트 입력 : \"))\n",
        "  print(\"미터 : %.2f\" %(feet / 3.28))\n",
        "else:\n",
        "  print(\"메뉴 입력 에러\")"
      ],
      "metadata": {
        "colab": {
          "base_uri": "https://localhost:8080/"
        },
        "id": "rGhGHtx52NNc",
        "outputId": "4a32ecd1-534f-4732-ef98-501821c9e928"
      },
      "execution_count": null,
      "outputs": [
        {
          "output_type": "stream",
          "name": "stdout",
          "text": [
            "1.미터를 피트로, 2.피트를 미터로\n",
            "메뉴 선택 : 2\n",
            "피트 입력 : 5\n",
            "미터 : 1.52\n"
          ]
        }
      ]
    },
    {
      "cell_type": "code",
      "source": [
        "passwd = \"python1234\"\n",
        "tries = 1\n",
        "\n",
        "while tries < 6:\n",
        "  guess = input(\"비밀번호 : \");\n",
        "  if guess == passwd:\n",
        "    print(\"비밀번호가 일치합니다\")\n",
        "    break\n",
        "  else:\n",
        "    print(\"비밀번호가 일치하지 않습니다\")\n",
        "    if tries != 5:\n",
        "      print(\"비밀번호 %d회 오류입니다\" %tries)\n",
        "      print(\"총 %d회 남았습니다\" %(5-tries))\n",
        "  tries += 1\n",
        "\n",
        "else:\n",
        "  print(\"처음부터 다시 시작하세요\")\n"
      ],
      "metadata": {
        "colab": {
          "base_uri": "https://localhost:8080/"
        },
        "id": "CajXSw3K3Uel",
        "outputId": "4f56f99d-7d5a-4045-e7f4-17008af2b8d0"
      },
      "execution_count": null,
      "outputs": [
        {
          "output_type": "stream",
          "name": "stdout",
          "text": [
            "비밀번호 : python1234\n",
            "비밀번호가 일치합니다\n"
          ]
        }
      ]
    },
    {
      "cell_type": "code",
      "source": [
        "for line in range(1, 6):\n",
        "  for star in range(line):\n",
        "    print(\"*\", end=\"\")\n",
        "  print()\n",
        "\n",
        "for line in range(1, 5):\n",
        "  for star in range(line,5):\n",
        "    print(\"*\", end=\"\")\n",
        "  print()\n"
      ],
      "metadata": {
        "colab": {
          "base_uri": "https://localhost:8080/"
        },
        "id": "UwKfBn5G3uZr",
        "outputId": "83615081-684f-43b6-9117-7ae825a48a37"
      },
      "execution_count": null,
      "outputs": [
        {
          "output_type": "stream",
          "name": "stdout",
          "text": [
            "*\n",
            "**\n",
            "***\n",
            "****\n",
            "*****\n",
            "****\n",
            "***\n",
            "**\n",
            "*\n"
          ]
        }
      ]
    },
    {
      "cell_type": "code",
      "source": [
        "while True:\n",
        "  prime = True\n",
        "  number = int(input(\"수를 입력 (0:종료) : \"))\n",
        "  \n",
        "  if number == 0:\n",
        "    break\n",
        "  if number == 1:\n",
        "    print(\"값을 다시 입력하세요\")\n",
        "    continue\n",
        "  for count in range(2, number):\n",
        "    if number % count == 0:\n",
        "      prime = False\n",
        "      break\n",
        "  \n",
        "  if prime:\n",
        "    print(\"소수입니다\")\n",
        "  else:\n",
        "    print(\"소수가 아닙니다\")\n"
      ],
      "metadata": {
        "colab": {
          "base_uri": "https://localhost:8080/"
        },
        "id": "kS-XTKZI3uki",
        "outputId": "e04ce590-7343-4e6d-ef45-e31a3900fe84"
      },
      "execution_count": null,
      "outputs": [
        {
          "name": "stdout",
          "output_type": "stream",
          "text": [
            "수를 입력 (0:종료) : 2\n",
            "소수입니다\n",
            "수를 입력 (0:종료) : 0\n"
          ]
        }
      ]
    },
    {
      "cell_type": "code",
      "source": [
        "while True:\n",
        "  number = int(input(\"양의 정수 입력 : \"))\n",
        "\n",
        "  if number>0:\n",
        "    print(\"%d는 양의 정수입니다.\" %number)\n",
        "    break\n",
        "  \n",
        "  else:\n",
        "    print(\"다시 입력하시오\")\n"
      ],
      "metadata": {
        "colab": {
          "base_uri": "https://localhost:8080/"
        },
        "id": "cC3QsDDe47GS",
        "outputId": "dbd0b8f8-b228-4132-c7ba-075ab77ac516"
      },
      "execution_count": null,
      "outputs": [
        {
          "output_type": "stream",
          "name": "stdout",
          "text": [
            "양의 정수를 입력 : -4\n",
            "다시 입력하시오\n",
            "양의 정수를 입력 : 5\n",
            "5는 양의 정수입니다.\n"
          ]
        }
      ]
    },
    {
      "cell_type": "code",
      "source": [
        "while True:\n",
        "  number = int(input(\"양의 정수 입력 : \"))\n",
        "\n",
        "  if number>0:\n",
        "    for i in range(number,0,-2):\n",
        "      for j in range(0,number-i,+2):\n",
        "        print(\" \", end='')\n",
        "      for j in range(0,i):\n",
        "        print(\"*\", end='')\n",
        "      print() \n",
        "    break\n",
        "  \n",
        "  else:\n",
        "    print(\"양의 정수를 입력하시오\")\n",
        "  "
      ],
      "metadata": {
        "colab": {
          "base_uri": "https://localhost:8080/"
        },
        "id": "TkhGufKP52Nk",
        "outputId": "cc893828-0987-4a69-f39f-ca00fdc12ce6"
      },
      "execution_count": 37,
      "outputs": [
        {
          "output_type": "stream",
          "name": "stdout",
          "text": [
            "양의 정수 입력 : -4\n",
            "양의 정수를 입력하시오\n",
            "양의 정수 입력 : 6\n",
            "******\n",
            " ****\n",
            "  **\n"
          ]
        }
      ]
    }
  ]
}